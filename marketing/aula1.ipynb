{
 "cells": [
  {
   "cell_type": "markdown",
   "metadata": {},
   "source": [
    "Primeira aula analisando um documento .csv"
   ]
  },
  {
   "cell_type": "code",
   "execution_count": 1,
   "metadata": {},
   "outputs": [],
   "source": [
    "#importando a lib pandas\n",
    "import pandas as pd\n",
    "\n",
    "# Carregamento de arquivo marketing.csv\n",
    "marketing = pd.read_csv('marketing.csv', delimiter=',')"
   ]
  },
  {
   "cell_type": "markdown",
   "metadata": {},
   "source": [
    "Exibindo dados do dataFrame marketing"
   ]
  },
  {
   "cell_type": "code",
   "execution_count": 3,
   "metadata": {},
   "outputs": [
    {
     "data": {
      "application/vnd.microsoft.datawrangler.viewer.v0+json": {
       "columns": [
        {
         "name": "index",
         "rawType": "int64",
         "type": "integer"
        },
        {
         "name": "user_id",
         "rawType": "object",
         "type": "string"
        },
        {
         "name": "date_served",
         "rawType": "object",
         "type": "string"
        },
        {
         "name": "marketing_channel",
         "rawType": "object",
         "type": "string"
        },
        {
         "name": "variant",
         "rawType": "object",
         "type": "string"
        },
        {
         "name": "converted",
         "rawType": "object",
         "type": "unknown"
        },
        {
         "name": "language_displayed",
         "rawType": "object",
         "type": "string"
        },
        {
         "name": "language_preferred",
         "rawType": "object",
         "type": "string"
        },
        {
         "name": "age_group",
         "rawType": "object",
         "type": "string"
        },
        {
         "name": "date_subscribed",
         "rawType": "object",
         "type": "string"
        },
        {
         "name": "date_canceled",
         "rawType": "object",
         "type": "unknown"
        },
        {
         "name": "subscribing_channel",
         "rawType": "object",
         "type": "string"
        },
        {
         "name": "is_retained",
         "rawType": "object",
         "type": "unknown"
        }
       ],
       "conversionMethod": "pd.DataFrame",
       "ref": "12cc4ac2-a76c-4b09-8b74-3c7183436501",
       "rows": [
        [
         "0",
         "a100000029",
         "1/1/18",
         "House Ads",
         "personalization",
         "True",
         "English",
         "English",
         "0-18 years",
         "1/1/18",
         null,
         "House Ads",
         "True"
        ],
        [
         "1",
         "a100000030",
         "1/1/18",
         "House Ads",
         "personalization",
         "True",
         "English",
         "English",
         "19-24 years",
         "1/1/18",
         null,
         "House Ads",
         "True"
        ],
        [
         "2",
         "a100000031",
         "1/1/18",
         "House Ads",
         "personalization",
         "True",
         "English",
         "English",
         "24-30 years",
         "1/1/18",
         null,
         "House Ads",
         "True"
        ],
        [
         "3",
         "a100000032",
         "1/1/18",
         "House Ads",
         "personalization",
         "True",
         "English",
         "English",
         "30-36 years",
         "1/1/18",
         null,
         "House Ads",
         "True"
        ],
        [
         "4",
         "a100000033",
         "1/1/18",
         "House Ads",
         "personalization",
         "True",
         "English",
         "English",
         "36-45 years",
         "1/1/18",
         null,
         "House Ads",
         "True"
        ]
       ],
       "shape": {
        "columns": 12,
        "rows": 5
       }
      },
      "text/html": [
       "<div>\n",
       "<style scoped>\n",
       "    .dataframe tbody tr th:only-of-type {\n",
       "        vertical-align: middle;\n",
       "    }\n",
       "\n",
       "    .dataframe tbody tr th {\n",
       "        vertical-align: top;\n",
       "    }\n",
       "\n",
       "    .dataframe thead th {\n",
       "        text-align: right;\n",
       "    }\n",
       "</style>\n",
       "<table border=\"1\" class=\"dataframe\">\n",
       "  <thead>\n",
       "    <tr style=\"text-align: right;\">\n",
       "      <th></th>\n",
       "      <th>user_id</th>\n",
       "      <th>date_served</th>\n",
       "      <th>marketing_channel</th>\n",
       "      <th>variant</th>\n",
       "      <th>converted</th>\n",
       "      <th>language_displayed</th>\n",
       "      <th>language_preferred</th>\n",
       "      <th>age_group</th>\n",
       "      <th>date_subscribed</th>\n",
       "      <th>date_canceled</th>\n",
       "      <th>subscribing_channel</th>\n",
       "      <th>is_retained</th>\n",
       "    </tr>\n",
       "  </thead>\n",
       "  <tbody>\n",
       "    <tr>\n",
       "      <th>0</th>\n",
       "      <td>a100000029</td>\n",
       "      <td>1/1/18</td>\n",
       "      <td>House Ads</td>\n",
       "      <td>personalization</td>\n",
       "      <td>True</td>\n",
       "      <td>English</td>\n",
       "      <td>English</td>\n",
       "      <td>0-18 years</td>\n",
       "      <td>1/1/18</td>\n",
       "      <td>NaN</td>\n",
       "      <td>House Ads</td>\n",
       "      <td>True</td>\n",
       "    </tr>\n",
       "    <tr>\n",
       "      <th>1</th>\n",
       "      <td>a100000030</td>\n",
       "      <td>1/1/18</td>\n",
       "      <td>House Ads</td>\n",
       "      <td>personalization</td>\n",
       "      <td>True</td>\n",
       "      <td>English</td>\n",
       "      <td>English</td>\n",
       "      <td>19-24 years</td>\n",
       "      <td>1/1/18</td>\n",
       "      <td>NaN</td>\n",
       "      <td>House Ads</td>\n",
       "      <td>True</td>\n",
       "    </tr>\n",
       "    <tr>\n",
       "      <th>2</th>\n",
       "      <td>a100000031</td>\n",
       "      <td>1/1/18</td>\n",
       "      <td>House Ads</td>\n",
       "      <td>personalization</td>\n",
       "      <td>True</td>\n",
       "      <td>English</td>\n",
       "      <td>English</td>\n",
       "      <td>24-30 years</td>\n",
       "      <td>1/1/18</td>\n",
       "      <td>NaN</td>\n",
       "      <td>House Ads</td>\n",
       "      <td>True</td>\n",
       "    </tr>\n",
       "    <tr>\n",
       "      <th>3</th>\n",
       "      <td>a100000032</td>\n",
       "      <td>1/1/18</td>\n",
       "      <td>House Ads</td>\n",
       "      <td>personalization</td>\n",
       "      <td>True</td>\n",
       "      <td>English</td>\n",
       "      <td>English</td>\n",
       "      <td>30-36 years</td>\n",
       "      <td>1/1/18</td>\n",
       "      <td>NaN</td>\n",
       "      <td>House Ads</td>\n",
       "      <td>True</td>\n",
       "    </tr>\n",
       "    <tr>\n",
       "      <th>4</th>\n",
       "      <td>a100000033</td>\n",
       "      <td>1/1/18</td>\n",
       "      <td>House Ads</td>\n",
       "      <td>personalization</td>\n",
       "      <td>True</td>\n",
       "      <td>English</td>\n",
       "      <td>English</td>\n",
       "      <td>36-45 years</td>\n",
       "      <td>1/1/18</td>\n",
       "      <td>NaN</td>\n",
       "      <td>House Ads</td>\n",
       "      <td>True</td>\n",
       "    </tr>\n",
       "  </tbody>\n",
       "</table>\n",
       "</div>"
      ],
      "text/plain": [
       "      user_id date_served marketing_channel          variant converted  \\\n",
       "0  a100000029      1/1/18         House Ads  personalization      True   \n",
       "1  a100000030      1/1/18         House Ads  personalization      True   \n",
       "2  a100000031      1/1/18         House Ads  personalization      True   \n",
       "3  a100000032      1/1/18         House Ads  personalization      True   \n",
       "4  a100000033      1/1/18         House Ads  personalization      True   \n",
       "\n",
       "  language_displayed language_preferred    age_group date_subscribed  \\\n",
       "0            English            English   0-18 years          1/1/18   \n",
       "1            English            English  19-24 years          1/1/18   \n",
       "2            English            English  24-30 years          1/1/18   \n",
       "3            English            English  30-36 years          1/1/18   \n",
       "4            English            English  36-45 years          1/1/18   \n",
       "\n",
       "  date_canceled subscribing_channel is_retained  \n",
       "0           NaN           House Ads        True  \n",
       "1           NaN           House Ads        True  \n",
       "2           NaN           House Ads        True  \n",
       "3           NaN           House Ads        True  \n",
       "4           NaN           House Ads        True  "
      ]
     },
     "execution_count": 3,
     "metadata": {},
     "output_type": "execute_result"
    }
   ],
   "source": [
    "marketing.head(5)"
   ]
  },
  {
   "cell_type": "code",
   "execution_count": 4,
   "metadata": {},
   "outputs": [
    {
     "data": {
      "application/vnd.microsoft.datawrangler.viewer.v0+json": {
       "columns": [
        {
         "name": "index",
         "rawType": "object",
         "type": "string"
        },
        {
         "name": "user_id",
         "rawType": "object",
         "type": "unknown"
        },
        {
         "name": "date_served",
         "rawType": "object",
         "type": "unknown"
        },
        {
         "name": "marketing_channel",
         "rawType": "object",
         "type": "unknown"
        },
        {
         "name": "variant",
         "rawType": "object",
         "type": "unknown"
        },
        {
         "name": "converted",
         "rawType": "object",
         "type": "unknown"
        },
        {
         "name": "language_displayed",
         "rawType": "object",
         "type": "unknown"
        },
        {
         "name": "language_preferred",
         "rawType": "object",
         "type": "unknown"
        },
        {
         "name": "age_group",
         "rawType": "object",
         "type": "unknown"
        },
        {
         "name": "date_subscribed",
         "rawType": "object",
         "type": "unknown"
        },
        {
         "name": "date_canceled",
         "rawType": "object",
         "type": "unknown"
        },
        {
         "name": "subscribing_channel",
         "rawType": "object",
         "type": "unknown"
        },
        {
         "name": "is_retained",
         "rawType": "object",
         "type": "unknown"
        }
       ],
       "conversionMethod": "pd.DataFrame",
       "ref": "0d43bc6c-74f8-451b-b109-8c0b9ba04f18",
       "rows": [
        [
         "count",
         "10037",
         "10021",
         "10022",
         "10037",
         "10022",
         "10037",
         "10037",
         "10037",
         "1856",
         "577",
         "1856",
         "1856"
        ],
        [
         "unique",
         "7309",
         "31",
         "5",
         "2",
         "2",
         "4",
         "4",
         "7",
         "31",
         "115",
         "5",
         "2"
        ],
        [
         "top",
         "a100000882",
         "1/15/18",
         "House Ads",
         "control",
         "False",
         "English",
         "English",
         "19-24 years",
         "1/16/18",
         "4/2/18",
         "Instagram",
         "True"
        ],
        [
         "freq",
         "12",
         "789",
         "4733",
         "5091",
         "8946",
         "9793",
         "9275",
         "1682",
         "163",
         "15",
         "600",
         "1279"
        ]
       ],
       "shape": {
        "columns": 12,
        "rows": 4
       }
      },
      "text/html": [
       "<div>\n",
       "<style scoped>\n",
       "    .dataframe tbody tr th:only-of-type {\n",
       "        vertical-align: middle;\n",
       "    }\n",
       "\n",
       "    .dataframe tbody tr th {\n",
       "        vertical-align: top;\n",
       "    }\n",
       "\n",
       "    .dataframe thead th {\n",
       "        text-align: right;\n",
       "    }\n",
       "</style>\n",
       "<table border=\"1\" class=\"dataframe\">\n",
       "  <thead>\n",
       "    <tr style=\"text-align: right;\">\n",
       "      <th></th>\n",
       "      <th>user_id</th>\n",
       "      <th>date_served</th>\n",
       "      <th>marketing_channel</th>\n",
       "      <th>variant</th>\n",
       "      <th>converted</th>\n",
       "      <th>language_displayed</th>\n",
       "      <th>language_preferred</th>\n",
       "      <th>age_group</th>\n",
       "      <th>date_subscribed</th>\n",
       "      <th>date_canceled</th>\n",
       "      <th>subscribing_channel</th>\n",
       "      <th>is_retained</th>\n",
       "    </tr>\n",
       "  </thead>\n",
       "  <tbody>\n",
       "    <tr>\n",
       "      <th>count</th>\n",
       "      <td>10037</td>\n",
       "      <td>10021</td>\n",
       "      <td>10022</td>\n",
       "      <td>10037</td>\n",
       "      <td>10022</td>\n",
       "      <td>10037</td>\n",
       "      <td>10037</td>\n",
       "      <td>10037</td>\n",
       "      <td>1856</td>\n",
       "      <td>577</td>\n",
       "      <td>1856</td>\n",
       "      <td>1856</td>\n",
       "    </tr>\n",
       "    <tr>\n",
       "      <th>unique</th>\n",
       "      <td>7309</td>\n",
       "      <td>31</td>\n",
       "      <td>5</td>\n",
       "      <td>2</td>\n",
       "      <td>2</td>\n",
       "      <td>4</td>\n",
       "      <td>4</td>\n",
       "      <td>7</td>\n",
       "      <td>31</td>\n",
       "      <td>115</td>\n",
       "      <td>5</td>\n",
       "      <td>2</td>\n",
       "    </tr>\n",
       "    <tr>\n",
       "      <th>top</th>\n",
       "      <td>a100000882</td>\n",
       "      <td>1/15/18</td>\n",
       "      <td>House Ads</td>\n",
       "      <td>control</td>\n",
       "      <td>False</td>\n",
       "      <td>English</td>\n",
       "      <td>English</td>\n",
       "      <td>19-24 years</td>\n",
       "      <td>1/16/18</td>\n",
       "      <td>4/2/18</td>\n",
       "      <td>Instagram</td>\n",
       "      <td>True</td>\n",
       "    </tr>\n",
       "    <tr>\n",
       "      <th>freq</th>\n",
       "      <td>12</td>\n",
       "      <td>789</td>\n",
       "      <td>4733</td>\n",
       "      <td>5091</td>\n",
       "      <td>8946</td>\n",
       "      <td>9793</td>\n",
       "      <td>9275</td>\n",
       "      <td>1682</td>\n",
       "      <td>163</td>\n",
       "      <td>15</td>\n",
       "      <td>600</td>\n",
       "      <td>1279</td>\n",
       "    </tr>\n",
       "  </tbody>\n",
       "</table>\n",
       "</div>"
      ],
      "text/plain": [
       "           user_id date_served marketing_channel  variant converted  \\\n",
       "count        10037       10021             10022    10037     10022   \n",
       "unique        7309          31                 5        2         2   \n",
       "top     a100000882     1/15/18         House Ads  control     False   \n",
       "freq            12         789              4733     5091      8946   \n",
       "\n",
       "       language_displayed language_preferred    age_group date_subscribed  \\\n",
       "count               10037              10037        10037            1856   \n",
       "unique                  4                  4            7              31   \n",
       "top               English            English  19-24 years         1/16/18   \n",
       "freq                 9793               9275         1682             163   \n",
       "\n",
       "       date_canceled subscribing_channel is_retained  \n",
       "count            577                1856        1856  \n",
       "unique           115                   5           2  \n",
       "top           4/2/18           Instagram        True  \n",
       "freq              15                 600        1279  "
      ]
     },
     "execution_count": 4,
     "metadata": {},
     "output_type": "execute_result"
    }
   ],
   "source": [
    "marketing.describe(include='all')"
   ]
  }
 ],
 "metadata": {
  "kernelspec": {
   "display_name": "Python 3",
   "language": "python",
   "name": "python3"
  },
  "language_info": {
   "codemirror_mode": {
    "name": "ipython",
    "version": 3
   },
   "file_extension": ".py",
   "mimetype": "text/x-python",
   "name": "python",
   "nbconvert_exporter": "python",
   "pygments_lexer": "ipython3",
   "version": "3.12.3"
  }
 },
 "nbformat": 4,
 "nbformat_minor": 2
}
